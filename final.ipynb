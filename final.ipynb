{
 "cells": [
  {
   "cell_type": "markdown",
   "metadata": {},
   "source": [
    "## Install the dependencies using the ```pip install``` command"
   ]
  },
  {
   "cell_type": "code",
   "execution_count": null,
   "metadata": {},
   "outputs": [],
   "source": [
    "pip install boto3"
   ]
  },
  {
   "cell_type": "code",
   "execution_count": null,
   "metadata": {},
   "outputs": [],
   "source": [
    "pip install numpy"
   ]
  },
  {
   "cell_type": "markdown",
   "metadata": {},
   "source": [
    "## Import the dependencies into the notebook."
   ]
  },
  {
   "cell_type": "code",
   "execution_count": null,
   "metadata": {},
   "outputs": [],
   "source": [
    "import boto3"
   ]
  },
  {
   "cell_type": "code",
   "execution_count": null,
   "metadata": {},
   "outputs": [],
   "source": [
    "import numpy as np"
   ]
  },
  {
   "cell_type": "markdown",
   "metadata": {},
   "source": [
    "In the ```import numpy``` statement, we're aliasing the import as ```np``` so that it's easier to type in the code."
   ]
  },
  {
   "cell_type": "markdown",
   "metadata": {},
   "source": [
    "## Create the AWS Athena client using the ```boto3``` library we imported. Here, we're passing four paramemters to the method to create a client:\n",
    "- ```athena```, which is the type of client we want to create. Other examples include ```s3```, ```dynamodb```, etc.\n",
    "- ```aws_access_key_id```, this is the access key you'll get when you create an AWS account IAM role.\n",
    "- ```aws_secret_access_key```, this is the secret key associated with the access key you provided as the second parameter.\n",
    "- ```region_name```, this is the region where your Athena database is located.\n",
    "\n",
    "Once we provide these parameters to boto3, it'll create an Athena client which we'll be using the start the query and also get the results."
   ]
  },
  {
   "cell_type": "markdown",
   "metadata": {},
   "source": [
    "[Boto3 client credential configuration](https://boto3.amazonaws.com/v1/documentation/api/latest/guide/credentials.html)"
   ]
  },
  {
   "cell_type": "code",
   "execution_count": null,
   "metadata": {},
   "outputs": [],
   "source": [
    "client = boto3.client('athena',\n",
    "    aws_access_key_id='AWS_ACCESS_KEY_ID',\n",
    "    aws_secret_access_key='AWS_ACCESS_KEY_NAME',\n",
    "    region_name='REGION'\n",
    ")"
   ]
  },
  {
   "cell_type": "markdown",
   "metadata": {},
   "source": [
    "Next, we'll be starting the query execution. We'll use the ```start_query_execution()``` method on the client to start the execution of the query. The method expects at least three parameters:\n",
    "- ```QueryString```, this is the actual query that you want to run.\n",
    "- ```QueryExecutionContext```, this is an object (dict.), which can take a bunch of parameters. But we'll be passing in the ```Database``` parameter to specify which database we want to query.\n",
    "- ```ResultConfiguration```, this is another object (dict.) that specifies the configuration for the resultset. One important parameter here is ```OutputLocation```. This specifies the S3 path where the result of the query will be saved."
   ]
  },
  {
   "cell_type": "code",
   "execution_count": null,
   "metadata": {},
   "outputs": [],
   "source": [
    "queryStart = client.start_query_execution(\n",
    "    QueryString = 'SELECT * FROM fl_insurance_sample.sales_record limit 10;',\n",
    "    QueryExecutionContext = {\n",
    "        'Database': 'fl_insurance_sample'\n",
    "    },\n",
    "    ResultConfiguration = {\n",
    "        'OutputLocation': 's3://test-bucket-nv/query_result'\n",
    "    }\n",
    ")"
   ]
  },
  {
   "cell_type": "code",
   "execution_count": null,
   "metadata": {},
   "outputs": [],
   "source": [
    "queryExecution = client.get_query_execution(\n",
    "    QueryExecutionId=queryStart['QueryExecutionId']\n",
    ")"
   ]
  },
  {
   "cell_type": "markdown",
   "metadata": {},
   "source": [
    "Here we're getting the result of the query we just executed, using the query execution ID. We can get the result set from the results object and cast it into a numpy array and use it for further analysis."
   ]
  },
  {
   "cell_type": "code",
   "execution_count": null,
   "metadata": {},
   "outputs": [],
   "source": [
    "results = client.get_query_results(\n",
    "    QueryExecutionId=queryStart['QueryExecutionId']\n",
    ")"
   ]
  },
  {
   "cell_type": "code",
   "execution_count": null,
   "metadata": {},
   "outputs": [],
   "source": [
    "result = results['ResultSet']"
   ]
  },
  {
   "cell_type": "code",
   "execution_count": null,
   "metadata": {},
   "outputs": [],
   "source": [
    "data = list(result.items())"
   ]
  },
  {
   "cell_type": "code",
   "execution_count": null,
   "metadata": {},
   "outputs": [],
   "source": [
    "data"
   ]
  }
 ],
 "metadata": {
  "kernelspec": {
   "display_name": "Python 3",
   "language": "python",
   "name": "python3"
  },
  "language_info": {
   "codemirror_mode": {
    "name": "ipython",
    "version": 3
   },
   "file_extension": ".py",
   "mimetype": "text/x-python",
   "name": "python",
   "nbconvert_exporter": "python",
   "pygments_lexer": "ipython3",
   "version": "3.8.6"
  }
 },
 "nbformat": 4,
 "nbformat_minor": 4
}
